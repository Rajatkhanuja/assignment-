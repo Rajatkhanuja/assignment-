{
 "cells": [
  {
   "cell_type": "code",
   "execution_count": 9,
   "id": "9c765f9d-1d11-44f5-99fd-190b8e8ad59c",
   "metadata": {},
   "outputs": [
    {
     "name": "stdin",
     "output_type": "stream",
     "text": [
      "enter a number: 1\n"
     ]
    },
    {
     "name": "stdout",
     "output_type": "stream",
     "text": [
      "this number is positive\n"
     ]
    }
   ],
   "source": [
    "\"\"\"\n",
    "q1:  What are the types of Applications? \n",
    "ans: python is a versatile language that can be used to develop a wide range of applications. Here are some common types-\n",
    "     1) Web Applications- Using frameworks like Flask, Django, and FastAPI, you can build robust and scalable web applications.\n",
    "     2) Desktop GUI Applications- Python provides libraries like Tkinter, PyQt, Kivy, and wxPython for building user-friendly graphical user interfaces.\n",
    "     3) Game Development- Python has libraries like Pygame and Panda3D for developing 2D and basic 3D games.\n",
    "     4) Machine Learning & Data Science Applications- Using libraries like TensorFlow, PyTorch, scikit-learn, and pandas, Python is extensively\n",
    "        used in building data-driven applications.\n",
    "     5) Networking Applications- Python supports the development of network-based applications using libraries like socket, Twisted, and ZeroMQ.\n",
    "     6) Database Applications- Python can be used to interact with databases like SQLite, PostgreSQL, MySQL, and MongoDB for creating data-driven\n",
    "        applications.\n",
    "        \n",
    "q2:  What is programing? \n",
    "ans: Programming is the process of designing and building an executable computer program to accomplish a specific computing task.\n",
    "     it involves writing code in a programming language to create software applications, scripts, or systems that perform various functions.\n",
    "     here are some key aspects of programming-\n",
    "     1) Problem-Solving: Programming starts with identifying a problem or a need and then devising a solution that can be implemented through code.\n",
    "     2) Algorithms: These are step-by-step instructions or procedures for solving a problem. Algorithms form the backbone of programming logic.\n",
    "     3) Code: The actual text written in a programming language that instructs the computer on what to do. Common programming languages include Python,\n",
    "        Java, C++, and JavaScript.\n",
    "     4) Debugging: The process of finding and fixing errors or bugs in the code to ensure it runs correctly and efficiently.\n",
    "     5) Testing: Verifying that the program works as intended by running it under various conditions and scenarios.\n",
    "\n",
    "q3: What is Python? \n",
    "ans: Python is a high-level, interpreted programming language designed to be easy to read and write. It features a simple syntax that emphasizes\n",
    "     readability, which helps developers write clear and concise code. Python supports multiple programming paradigms, including object-oriented,\n",
    "     procedural, and functional programming. It is widely used for tasks such as web development, data analysis, machine learning, scripting,\n",
    "     automation, and software development. Python's extensive standard library and active community contribute to its versatility and popularity.\n",
    "\"\"\"\n",
    "#q4)write a python program to check if a number is positive, negative or zero.\n",
    "number =float(input(\"enter a number:\"))\n",
    "if number > 0:\n",
    "    print(\"this number is positive\")\n",
    "elif number < 0:\n",
    "    print(\"this number is negative\")\n",
    "else: \n",
    "    print(\"this number is zero\")\n",
    "     \n"
   ]
  },
  {
   "cell_type": "code",
   "execution_count": 17,
   "id": "a9f62357-bc06-4a36-af64-80eff9b5b68f",
   "metadata": {},
   "outputs": [
    {
     "name": "stdin",
     "output_type": "stream",
     "text": [
      "Enter a number:  4\n"
     ]
    },
    {
     "name": "stdout",
     "output_type": "stream",
     "text": [
      "Factorial is:  24\n"
     ]
    }
   ],
   "source": [
    "#q5)Write a Python program to get the Factorial number of given numbers.\n",
    "a2 = int(input(\"Enter a number: \"))\n",
    "\n",
    "if a2 < 0:\n",
    "    print(\"Factorial is not for negative numbers.\")\n",
    "else:\n",
    "    factorial = 1\n",
    "    for i in range(1, a2 + 1):\n",
    "        factorial *= i\n",
    "\n",
    "    print(\"Factorial is: \",factorial) "
   ]
  },
  {
   "cell_type": "code",
   "execution_count": 21,
   "id": "847cc791-6736-4f1c-8bc9-c7ae47a020df",
   "metadata": {},
   "outputs": [
    {
     "name": "stdin",
     "output_type": "stream",
     "text": [
      "Enter the range:  8\n"
     ]
    },
    {
     "name": "stdout",
     "output_type": "stream",
     "text": [
      "0 1 1 2 3 5 8 13 "
     ]
    }
   ],
   "source": [
    "#q6)Write a Python program to get the Fibonacci series of given range.\n",
    "a3 = int(input(\"Enter the range: \"))\n",
    "\n",
    "a, b = 0, 1\n",
    "\n",
    "for i in range(a3):\n",
    "    print(a, end=\" \")\n",
    "    a, b = b, a + b"
   ]
  },
  {
   "cell_type": "code",
   "execution_count": null,
   "id": "8749e894-773a-46c4-bb98-222f4903fb18",
   "metadata": {},
   "outputs": [],
   "source": [
    "\n",
    "\"\"\"\n",
    "q7: How memory is managed in Python? \n",
    "ans: Memory management in Python is handled automatically through a built-in system. Here are the key aspects of how it works:\n",
    "     1-Memory Allocation: Python uses an internal memory manager to allocate memory for different objects and data structures. It has a private heap\n",
    "     that stores all Python objects and data structures.\n",
    "     2-Garbage Collection: Python has an automatic garbage collector to reclaim unused memory and free up space for new objects. The garbage collector\n",
    "     uses reference counting and generational garbage collection to manage memory efficiently\n",
    "     a) Reference Counting: Each object in Python has an associated reference count, which is incremented when the object is referenced and\n",
    "     decremented when the reference is removed.\n",
    "     b) Generational Garbage Collection: Python divides objects into three generations (0, 1, and 2) based on their lifespan.\n",
    "     Younger objects (in generation 0) are collected more frequently, while older objects (in generations 1 and 2) are collected less frequently.\n",
    "     3-Memory Pools and Object Caching: Python uses memory pools to optimize the allocation and deallocation of small objects. This reduces the\n",
    "     overhead associated with memory management and speeds up object creation and deletion. The interpreter caches frequently used objects\n",
    "     (like small integers and short strings) to reuse them and improve performance. \n",
    "     4-Memory Leaks Prevention: Since Python uses automatic garbage collection, memory leaks are less common compared to languages without garbage\n",
    "     collection. However, circular references or references held by external resources can still cause memory issues if not handled properly. \n",
    "     Tools like gc (garbage collection module) can help detect and handle circular references.\n",
    "     \n",
    "q8: What is the purpose continuing statement in python? \n",
    "ans: The continue statement in Python is used to skip the rest of the code inside a loop for the current iteration and immediately\n",
    "    move on to the next iteration of the loop.\n",
    "     Purpose of continue\n",
    "     It is commonly used when you want to bypass certain parts of the loop code when a specific condition is met, but still continue iterating\n",
    "     through the loop. \"\"\"\n",
    "#example of continuing statement\n",
    "for number in range(1, 6):\n",
    "    if number == 3:\n",
    "        continue \n",
    "    print(number)"
   ]
  },
  {
   "cell_type": "code",
   "execution_count": 25,
   "id": "87e09081-5dff-4121-9662-2bce02f7d50b",
   "metadata": {},
   "outputs": [
    {
     "name": "stdin",
     "output_type": "stream",
     "text": [
      "Enter the number for a:  4\n",
      "Enter the number for b:  5\n"
     ]
    },
    {
     "name": "stdout",
     "output_type": "stream",
     "text": [
      "Before swapping: a = 4 , b = 5\n",
      "After swapping: a = 5 , b = 4\n"
     ]
    }
   ],
   "source": [
    "#q9: Write python program that swap two number with temp variable and without temp variable. \n",
    "a = int(input(\"Enter the number for a: \"))\n",
    "b = int(input(\"Enter the number for b: \"))\n",
    "\n",
    "print(\"Before swapping: a =\", a, \", b =\", b)\n",
    "\n",
    "temp = a\n",
    "a = b\n",
    "b = temp\n",
    "\n",
    "print(\"After swapping: a =\", a, \", b =\", b)\n"
   ]
  },
  {
   "cell_type": "code",
   "execution_count": 27,
   "id": "493f28c1-4435-4712-97ee-411e32019df1",
   "metadata": {},
   "outputs": [
    {
     "name": "stdin",
     "output_type": "stream",
     "text": [
      "Enter the number for a:  7\n",
      "Enter the number for b:  8\n"
     ]
    },
    {
     "name": "stdout",
     "output_type": "stream",
     "text": [
      "Before swapping: a = 7 , b = 8\n",
      "After swapping: a = 8 , b = 7\n"
     ]
    }
   ],
   "source": [
    "# Swapping without using a temporary variable\n",
    "\n",
    "a = int(input(\"Enter the number for a: \"))\n",
    "b = int(input(\"Enter the number for b: \"))\n",
    "\n",
    "print(\"Before swapping: a =\", a, \", b =\", b)\n",
    "\n",
    "a, b = b, a\n",
    "\n",
    "print(\"After swapping: a =\", a, \", b =\", b)"
   ]
  },
  {
   "cell_type": "code",
   "execution_count": null,
   "id": "e282a3ac-b397-452b-892c-7ff32d05a26f",
   "metadata": {},
   "outputs": [],
   "source": [
    "#q10: Write a Python program to find whether a given number is even or odd, print out an appropriate message to the user.\n",
    "number = int(input(\"enter a number: \"))\n",
    "if number %2 == 0:\n",
    "    print(\"is an even number\")\n",
    "else:\n",
    "    print(\"is an odd number\")\n"
   ]
  },
  {
   "cell_type": "code",
   "execution_count": 34,
   "id": "ff19feb4-b8b8-44a6-b18e-26a795a5a225",
   "metadata": {},
   "outputs": [
    {
     "name": "stdin",
     "output_type": "stream",
     "text": [
      "enter a letter q\n"
     ]
    },
    {
     "name": "stdout",
     "output_type": "stream",
     "text": [
      "is not a vowel\n"
     ]
    }
   ],
   "source": [
    "#q11: Write a Python program to test whether a passed letter is a vowel or not.\n",
    "letter = input(\"enter a letter\")\n",
    "if letter in 'aeiou':\n",
    "    print(\"is a vowel\")\n",
    "else:\n",
    "    print(\"is not a vowel\")"
   ]
  },
  {
   "cell_type": "code",
   "execution_count": 37,
   "id": "5520ca2a-0527-47e4-be4f-bfb52be3abf3",
   "metadata": {},
   "outputs": [
    {
     "name": "stdin",
     "output_type": "stream",
     "text": [
      "Enter first number:  5\n",
      "Enter second number:  8\n",
      "Enter third number:  2\n"
     ]
    },
    {
     "name": "stdout",
     "output_type": "stream",
     "text": [
      "sum:  15\n"
     ]
    }
   ],
   "source": [
    "#q12: Write a Python program to sum of three given integers. However, if two values are equal sum will be zero.\n",
    "a = int(input(\"Enter first number: \"))\n",
    "b = int(input(\"Enter second number: \"))\n",
    "c = int(input(\"Enter third number: \"))\n",
    "\n",
    "if a == b or b == c or a == c:\n",
    "    print(0)\n",
    "else:\n",
    "    print(\"sum: \",a + b + c)\n",
    "\n",
    "\n"
   ]
  },
  {
   "cell_type": "code",
   "execution_count": 39,
   "id": "a6a2d14e-bcf3-4487-9674-c7494d55a8ee",
   "metadata": {},
   "outputs": [
    {
     "name": "stdin",
     "output_type": "stream",
     "text": [
      "Enter first number:  5\n",
      "Enter second number:  7\n"
     ]
    },
    {
     "name": "stdout",
     "output_type": "stream",
     "text": [
      "False\n"
     ]
    }
   ],
   "source": [
    "#q13: Write a Python program that will return true if the two given integer values are equal or their sum or difference is 5.\n",
    "a = int(input(\"Enter first number: \"))\n",
    "b = int(input(\"Enter second number: \"))\n",
    "\n",
    "if a == b or a + b == 5 or a - b == 5:\n",
    "    print(True)\n",
    "else:\n",
    "    print(False)"
   ]
  },
  {
   "cell_type": "code",
   "execution_count": 3,
   "id": "eda679fb-f8b3-43c1-b906-66a46b308ba1",
   "metadata": {},
   "outputs": [
    {
     "name": "stdin",
     "output_type": "stream",
     "text": [
      "Enter a positive integer:  4\n"
     ]
    },
    {
     "name": "stdout",
     "output_type": "stream",
     "text": [
      "sum=  10\n"
     ]
    }
   ],
   "source": [
    "#q14: Write a python program to sum of the first n positive integers. \n",
    "n = int(input(\"Enter a positive integer: \"))\n",
    "\n",
    "summ = 0\n",
    "for i in range(1, n + 1):\n",
    "    summ += i\n",
    "\n",
    "print(\"sum= \",summ)"
   ]
  },
  {
   "cell_type": "code",
   "execution_count": 41,
   "id": "70e1e45a-b2ce-4312-80f2-3df634e1c5a2",
   "metadata": {},
   "outputs": [
    {
     "name": "stdin",
     "output_type": "stream",
     "text": [
      "Enter a word:  rajat\n"
     ]
    },
    {
     "name": "stdout",
     "output_type": "stream",
     "text": [
      "The length is:  5\n"
     ]
    }
   ],
   "source": [
    "#q15: Write a Python program to calculate the length of a string.\n",
    "s = input(\"Enter a word: \")\n",
    "\n",
    "length = len(s)\n",
    "\n",
    "print(\"The length is: \",length)\n"
   ]
  },
  {
   "cell_type": "code",
   "execution_count": 5,
   "id": "82da3c0f-f97b-4741-b0a5-faff83f7f266",
   "metadata": {},
   "outputs": [
    {
     "name": "stdin",
     "output_type": "stream",
     "text": [
      "Enter a string:  hello\n"
     ]
    },
    {
     "name": "stdout",
     "output_type": "stream",
     "text": [
      "Character frequencies:\n",
      "'h': 1\n",
      "'e': 1\n",
      "'l': 2\n",
      "'o': 1\n"
     ]
    }
   ],
   "source": [
    "#q16: Write a Python program to count the number of characters (character frequency) in a string \n",
    "\n",
    "string = input(\"Enter a string: \")\n",
    "\n",
    "count = {}\n",
    "\n",
    "for c in string:\n",
    "    if c in count:\n",
    "        count[c] += 1\n",
    "    else:\n",
    "        count[c] = 1\n",
    "\n",
    "print(\"Character frequencies:\")\n",
    "for c, countt in count.items():\n",
    "    print(f\"'{c}': {countt}\")\n"
   ]
  },
  {
   "cell_type": "code",
   "execution_count": 43,
   "id": "f7f5f8fb-6da8-4079-b601-8d53f6041a3d",
   "metadata": {},
   "outputs": [
    {
     "name": "stdout",
     "output_type": "stream",
     "text": [
      "50\n"
     ]
    }
   ],
   "source": [
    "\"\"\"\n",
    "q17: What are negative indexes and why are they used? \n",
    "ans: Negative Indexes in Python Negative indexes in Python allow you to access elements of a sequence (like a list, string, or tuple) from the end.\n",
    "In a sequence,the index -1 refers to the last element, -2 to the second last, and so on.\n",
    "\n",
    "***********************Why Use Negative Indexes?************************\n",
    "1) Convenience: Negative indexes provide a simpler way to access elements from the end of a sequence without needing to calculate the length explicitly.\n",
    "2) Reverse Access: They make it easy to iterate over a sequence in reverse order or to reference the end of a sequence quickly.\n",
    "\n",
    "Example\n",
    "\"\"\"\n",
    "mylist = [10, 20, 30, 40, 50]\n",
    "print(mylist[-1]) "
   ]
  },
  {
   "cell_type": "code",
   "execution_count": 11,
   "id": "8d623a2c-f1a9-4e2e-9557-c7806c3b4b13",
   "metadata": {},
   "outputs": [
    {
     "name": "stdin",
     "output_type": "stream",
     "text": [
      "Enter the string:  rajat rajat rajat\n",
      "Enter the substring:  r\n"
     ]
    },
    {
     "name": "stdout",
     "output_type": "stream",
     "text": [
      "3 times in the main string.\n"
     ]
    }
   ],
   "source": [
    "#q18: Write a Python program to count occurrences of a substring in a string.\n",
    "strr = input(\"Enter the string: \")\n",
    "substrr = input(\"Enter the substring: \")\n",
    "\n",
    "count = strr.count(substrr)\n",
    "\n",
    "print(count, \"times in the main string.\")\n"
   ]
  },
  {
   "cell_type": "code",
   "execution_count": 44,
   "id": "baa72fe3-3d4a-4aad-822c-ccba910acca1",
   "metadata": {},
   "outputs": [
    {
     "name": "stdin",
     "output_type": "stream",
     "text": [
      "Enter Sentance:  kya kr rha h ye \n"
     ]
    },
    {
     "name": "stdout",
     "output_type": "stream",
     "text": [
      "{'kya': 1, 'kr': 1, 'rha': 1, 'h': 1, 'ye': 1}\n"
     ]
    }
   ],
   "source": [
    "#q19: Write a Python program to count the occurrences of each word in a given sentence\n",
    "sent = input(\"Enter Sentance: \")\n",
    "words = sent.split()  \n",
    "count = {}  \n",
    "\n",
    "for word in words:\n",
    "    if word in count:\n",
    "        count[word] += 1\n",
    "    else:\n",
    "        count[word] = 1 \n",
    "\n",
    "print(count)\n"
   ]
  },
  {
   "cell_type": "code",
   "execution_count": 15,
   "id": "4c6b2622-8f81-4478-a60a-0c9c471bfe7e",
   "metadata": {},
   "outputs": [
    {
     "name": "stdin",
     "output_type": "stream",
     "text": [
      "Enter the first string:  hello\n",
      "Enter the second string:  ji\n"
     ]
    },
    {
     "name": "stdout",
     "output_type": "stream",
     "text": [
      "jillo he\n"
     ]
    }
   ],
   "source": [
    "#q20: Write a Python program to get a single string from two given strings,separated by a space and swap the first two characters of each string.\n",
    "\n",
    "str1 = input(\"Enter the first string: \")\n",
    "str2 = input(\"Enter the second string: \")\n",
    "\n",
    "s1 = str2[:2] + str1[2:]\n",
    "s2 = str1[:2] + str2[2:]\n",
    "\n",
    "result = s1 + \" \" + s2\n",
    "print(result)"
   ]
  },
  {
   "cell_type": "code",
   "execution_count": 9,
   "id": "bb3ec36e-b58a-4d04-9ee8-929fca67a494",
   "metadata": {},
   "outputs": [
    {
     "name": "stdin",
     "output_type": "stream",
     "text": [
      "Enter a word:  hello come\n"
     ]
    },
    {
     "name": "stdout",
     "output_type": "stream",
     "text": [
      "hello comeing\n"
     ]
    }
   ],
   "source": [
    "#q21: Write a Python program to add 'in' at the end of a given string (length should be at least 3). If the given string already ends with 'ing' then \n",
    "#add 'ly' instead if the string length of the given string is less than 3,leave it unchanged. \n",
    "a1 = input(\"Enter a word: \")\n",
    "\n",
    "if len(a1) < 3:\n",
    "    result = a1\n",
    "elif a1.endswith(\"ing\"):\n",
    "    result = a1 + \"ly\"\n",
    "else:\n",
    "    result = a1 + \"ing\"\n",
    "\n",
    "print(result)"
   ]
  },
  {
   "cell_type": "code",
   "execution_count": 27,
   "id": "7954ac16-520c-43cb-a100-3cf7ddd2177b",
   "metadata": {},
   "outputs": [
    {
     "name": "stdin",
     "output_type": "stream",
     "text": [
      "Enter a string:  helo\n"
     ]
    },
    {
     "name": "stdout",
     "output_type": "stream",
     "text": [
      "Result: oleh\n"
     ]
    }
   ],
   "source": [
    "#q22: Write a Python function to reverses a string if its length is a multiple of 4. \n",
    "\n",
    "s = input(\"Enter a string: \")\n",
    "\n",
    "if len(s) % 4 == 0:\n",
    "    s = s[::-1]\n",
    "\n",
    "print(\"Result:\", s)"
   ]
  },
  {
   "cell_type": "code",
   "execution_count": 29,
   "id": "af6a8512-2eab-4bbf-a30e-1883928b7b62",
   "metadata": {},
   "outputs": [
    {
     "name": "stdin",
     "output_type": "stream",
     "text": [
      "Enter a string:  rajathello\n"
     ]
    },
    {
     "name": "stdout",
     "output_type": "stream",
     "text": [
      "ralo\n"
     ]
    }
   ],
   "source": [
    "#q23: Write a Python program to get a string made of the first 2 and the last 2 chars from a given a string. If the string length is less than 2, return \n",
    "#instead of the empty string.\n",
    "\n",
    "s = input(\"Enter a string: \")\n",
    "\n",
    "if len(s) < 2:\n",
    "    result = \"\"\n",
    "else:\n",
    "    result = s[:2] + s[-2:]\n",
    "\n",
    "print(result)\n"
   ]
  },
  {
   "cell_type": "code",
   "execution_count": 13,
   "id": "aa28d582-fbe6-480a-b06d-84643f8ca471",
   "metadata": {},
   "outputs": [
    {
     "name": "stdin",
     "output_type": "stream",
     "text": [
      "Enter the original string:  hello\n",
      "Enter the string to insert:  sir\n"
     ]
    },
    {
     "name": "stdout",
     "output_type": "stream",
     "text": [
      "hesirllo\n"
     ]
    }
   ],
   "source": [
    "#q24: Write a Python function to insert a string in the middle of a string. \n",
    "s= input(\"Enter the original string: \")\n",
    "e = input(\"Enter the string to insert: \")\n",
    "\n",
    "m = len(s) // 2\n",
    "r = s[:m] + e + s[m:]\n",
    "\n",
    "print(r)\n",
    "\n"
   ]
  },
  {
   "cell_type": "code",
   "execution_count": 3,
   "id": "d04e59ed-e4ff-4a3c-b143-ccc3e8e99ca9",
   "metadata": {},
   "outputs": [
    {
     "name": "stdout",
     "output_type": "stream",
     "text": [
      "[10, 20, 30, 40]\n"
     ]
    }
   ],
   "source": [
    "\"\"\"\n",
    "q25: What is List? How will you reverse a list?\n",
    "ans: A list in Python is a built-in data structure used to store an ordered collection of items. Lists can contain items of any data type \n",
    "(integers, strings, floats, or even other lists) and are mutable, meaning you can modify their contents after they are created.\n",
    "Lists are defined using square brackets [].A list is a fundamental data type in Python that can store multiple items in a single variable.\n",
    "Lists are highly versatile and can be used to group related data together.\n",
    "\n",
    "q26: How will you remove last object from a list? \n",
    "ans: To remove the last object from a list, you can use the pop() method.\n",
    "The pop() method removes and returns the last item in the list if no index is specified.\n",
    "\"\"\"\n",
    "mylist=[10,20,30,40,50]\n",
    "mylist.pop()\n",
    "print(mylist)"
   ]
  },
  {
   "cell_type": "code",
   "execution_count": 23,
   "id": "8e848810-2407-4f60-a9da-4bcf0dd28e2a",
   "metadata": {},
   "outputs": [
    {
     "name": "stdout",
     "output_type": "stream",
     "text": [
      "25\n"
     ]
    }
   ],
   "source": [
    "#q27: Suppose list1 is [2, 33, 222, 14, and 25], what is list1 [-1]?\n",
    "list1 = [2, 33, 222, 14, 25]\n",
    "print(list1[-1])"
   ]
  },
  {
   "cell_type": "code",
   "execution_count": 15,
   "id": "22a8e427-4147-423b-ba02-9674cd331b1f",
   "metadata": {},
   "outputs": [
    {
     "name": "stdout",
     "output_type": "stream",
     "text": [
      "[1, 2, 3, [5, 6]]\n"
     ]
    }
   ],
   "source": [
    "\"\"\"\n",
    "q28: Differentiate between append () and extend () methods? \n",
    "ans: 1.The append() method adds a single element to the end of the list. When you append \n",
    "an item, the entire item (even if it's a collection like a list or tuple) is added as\n",
    "one single entity.\n",
    "Syntax: list.append(element)The append() method adds the element as a whole,\n",
    "no matter whether it's a single element or an iterable (like a list).\n",
    "2. The extend() method is used to add each individual element from an iterable\n",
    "(like a list, tuple, or string) to the end of the list. Unlike append(), which adds\n",
    "the whole iterable as one element, extend() adds each element from the iterable one by \n",
    "one.\n",
    "Syntax: list.extend(iterable)\n",
    "\"\"\"\n",
    "lst = [1, 2, 3]\n",
    "\n",
    "lst.append([5, 6])\n",
    "print(lst)"
   ]
  },
  {
   "cell_type": "code",
   "execution_count": 17,
   "id": "9429f76e-e3b7-4329-ac67-e4a2b35dd894",
   "metadata": {},
   "outputs": [
    {
     "name": "stdout",
     "output_type": "stream",
     "text": [
      "[1, 2, 3, 4, 5]\n"
     ]
    }
   ],
   "source": [
    "lst = [1, 2, 3]\n",
    "lst.extend([4, 5])\n",
    "print(lst)"
   ]
  },
  {
   "cell_type": "code",
   "execution_count": 19,
   "id": "b4cb3a51-1a81-46ff-aa7e-117302624a98",
   "metadata": {},
   "outputs": [
    {
     "name": "stdout",
     "output_type": "stream",
     "text": [
      "Largest: 50\n",
      "Smallest: 10\n",
      "Sum: 150\n"
     ]
    }
   ],
   "source": [
    "#q29: Write a Python function to get the largest number, smallest num and sum of all from a list.\n",
    "\n",
    "lst = [10, 20, 30, 40, 50]\n",
    "\n",
    "large = max(lst)\n",
    "small = min(lst)\n",
    "total = sum(lst)\n",
    "\n",
    "print(\"Largest:\", large)\n",
    "print(\"Smallest:\", small)\n",
    "print(\"Sum:\", total)\n"
   ]
  },
  {
   "cell_type": "code",
   "execution_count": 23,
   "id": "ce9ebe84-4589-4768-b6e8-c9444fd385a0",
   "metadata": {},
   "outputs": [
    {
     "name": "stdout",
     "output_type": "stream",
     "text": [
      "The lists are equal.\n"
     ]
    }
   ],
   "source": [
    "#q30: How will you compare two lists? \n",
    "\n",
    "lst1 = [1, 2, 3]\n",
    "lst2 = [1, 2, 3]\n",
    "\n",
    "if lst1 == lst2:\n",
    "    print(\"The lists are equal.\")\n",
    "else:\n",
    "    print(\"The lists are not equal.\")"
   ]
  },
  {
   "cell_type": "code",
   "execution_count": 40,
   "id": "85ed1a34-8b4b-44c1-b874-5da894e74355",
   "metadata": {},
   "outputs": [
    {
     "name": "stdout",
     "output_type": "stream",
     "text": [
      "result: 3\n"
     ]
    }
   ],
   "source": [
    "#q31:Write a Python program to count the number of strings where the string length is 2 or more and the first and last character are same from\n",
    "#a given list of strings. \n",
    "strings = ['aba', 'abc', 'xyz', 'a', 'xyx', 'def', 'aa']\n",
    "count = 0\n",
    "for s in strings:\n",
    "    if len(s) >= 2 and s[0] == s[-1]:\n",
    "        count += 1\n",
    "print(\"result:\",count)"
   ]
  },
  {
   "cell_type": "code",
   "execution_count": 27,
   "id": "82c9c88b-9659-4ff8-aa7b-e1cf28b42b58",
   "metadata": {},
   "outputs": [
    {
     "name": "stdout",
     "output_type": "stream",
     "text": [
      "with duplicates: [1, 2, 3, 4, 5, 5]\n",
      "without duplicates: {1, 2, 3, 4, 5}\n"
     ]
    }
   ],
   "source": [
    "#q32:Write a Python program to remove duplicates from a list. \n",
    "list1=[1,2,3,4,5,5]\n",
    "sett= set(list1)\n",
    "lst2=sett\n",
    "print(\"with duplicates:\",list1)\n",
    "print(\"without duplicates:\",lst2)"
   ]
  },
  {
   "cell_type": "code",
   "execution_count": 31,
   "id": "3bfff1a9-dafb-481d-9230-c2e49efff294",
   "metadata": {},
   "outputs": [
    {
     "name": "stdout",
     "output_type": "stream",
     "text": [
      "list have data. list= [12, 12]\n"
     ]
    }
   ],
   "source": [
    "#q33: Write a Python program to check a list is empty or not.\n",
    "lst1 = [12,12]\n",
    "if len(lst1)==0:\n",
    "    print(\"List is empty.\")\n",
    "else:\n",
    "    print(\"list have data. list=\",lst1)\n"
   ]
  },
  {
   "cell_type": "code",
   "execution_count": 33,
   "id": "0edf3d31-8214-4c64-b22f-8237c29eb5ba",
   "metadata": {},
   "outputs": [
    {
     "name": "stdout",
     "output_type": "stream",
     "text": [
      "True\n"
     ]
    }
   ],
   "source": [
    "#q34: Write a Python function that takes two lists and returns true if they have at least one common member. \n",
    "lst1=[1,2,3]\n",
    "lst2=[5,5,1]\n",
    "\n",
    "result = 0\n",
    "for i in lst1:\n",
    "    if i in lst2:\n",
    "        result = True\n",
    "        break\n",
    "    else:\n",
    "        result = False\n",
    "\n",
    "print(result)\n"
   ]
  },
  {
   "cell_type": "code",
   "execution_count": 35,
   "id": "443dcd1a-cf7c-46ed-adbc-f1fd18519a77",
   "metadata": {},
   "outputs": [
    {
     "name": "stdout",
     "output_type": "stream",
     "text": [
      "[1, 4, 9, 16, 25, 676, 729, 784, 841, 900]\n"
     ]
    }
   ],
   "source": [
    "#q35: Write a Python program to generate and print a list of first and last 5 elements where the values are square of numbers between 1 and 30.\n",
    "\n",
    "s = [i**2 for i in range(1,31)]\n",
    "print(s[:5]+s[-5:])"
   ]
  },
  {
   "cell_type": "code",
   "execution_count": 43,
   "id": "1bb4e082-099b-48ed-b039-f3f2c1df8f0d",
   "metadata": {},
   "outputs": [
    {
     "name": "stdout",
     "output_type": "stream",
     "text": [
      "original List:  [1, 2, 3, 4, 5, 2, 5, 3, 'a', 'a', 'c']\n",
      "Unique List:  [1, 2, 3, 4, 5, 'a', 'c']\n"
     ]
    }
   ],
   "source": [
    "#q36: Write a Python function that takes a list and returns a new list with unique elements of the first list. \n",
    "lst1 = [1,2,3,4,5,2,5,3,\"a\",\"a\",\"c\"]\n",
    "ulst = set(lst1)\n",
    "ulst = list(ulst)\n",
    "print(\"original List: \",lst1)\n",
    "print(\"Unique List: \",ulst)"
   ]
  },
  {
   "cell_type": "code",
   "execution_count": 45,
   "id": "3efaa930-7d7a-4265-a7ba-80b10907d7d4",
   "metadata": {},
   "outputs": [
    {
     "data": {
      "text/plain": [
       "'RAJAT'"
      ]
     },
     "execution_count": 45,
     "metadata": {},
     "output_type": "execute_result"
    }
   ],
   "source": [
    "#q37: Write a Python program to convert a list of characters into a string. \n",
    "\n",
    "lst1=[\"R\",\"A\",\"J\",\"A\",\"T\"]\n",
    "x = \"\".join(lst1)\n",
    "x"
   ]
  },
  {
   "cell_type": "code",
   "execution_count": 53,
   "id": "5fd037ee-7973-4589-afb2-66eac4ee7045",
   "metadata": {},
   "outputs": [
    {
     "name": "stdout",
     "output_type": "stream",
     "text": [
      "random item 1\n"
     ]
    }
   ],
   "source": [
    "#q38: Write a Python program to select an item randomly from a list. \n",
    "\n",
    "lst1=[1,2,3,4,5,\"a\",\"b\"]\n",
    "sett = set(lst1)\n",
    "for i in sett:\n",
    "    print(\"random item\",i)\n",
    "    break"
   ]
  },
  {
   "cell_type": "code",
   "execution_count": 55,
   "id": "7a84d430-93d0-40eb-9450-7a3e5d60e5c1",
   "metadata": {},
   "outputs": [
    {
     "name": "stdout",
     "output_type": "stream",
     "text": [
      "2\n"
     ]
    }
   ],
   "source": [
    "#q39: Write a Python program to find the second smallest number in a list. \n",
    "lst1=[1,2,3,20,21,22]\n",
    "lst1.remove(min(lst1))\n",
    "print(min(lst1))"
   ]
  },
  {
   "cell_type": "code",
   "execution_count": 57,
   "id": "01fe0984-14eb-4df3-a755-c686590a049a",
   "metadata": {},
   "outputs": [
    {
     "name": "stdout",
     "output_type": "stream",
     "text": [
      "Unique List= [1, 2, 4, 5, 'a', 'b']\n"
     ]
    }
   ],
   "source": [
    "#q40: Write a Python program to get unique values from a list \n",
    "def unique(lst):\n",
    "    ulst = []\n",
    "    for i in lst:\n",
    "        if i not in ulst:\n",
    "            ulst.append(i)\n",
    "    return ulst\n",
    "\n",
    "listt=[1,2,1,2,4,5,\"a\",\"b\",\"a\"]\n",
    "xlst = unique(listt)\n",
    "print(\"Unique List=\", xlst)"
   ]
  },
  {
   "cell_type": "code",
   "execution_count": 4,
   "id": "048cc931-b0d5-4cbf-b9f6-965d43ee204a",
   "metadata": {},
   "outputs": [
    {
     "name": "stdout",
     "output_type": "stream",
     "text": [
      "The list contains the sublist.\n"
     ]
    }
   ],
   "source": [
    "#q41: Write a Python program to check whether a list contains a sub list\n",
    "main_list =[1,2,3,4,5,6]\n",
    "sub_list=[3,4,5]\n",
    "if all(item in main_list for item in sub_list):\n",
    "    print(\"The list contains the sublist.\")\n",
    "else:\n",
    "    print(\"The list does not contain the sublist.\")\n"
   ]
  },
  {
   "cell_type": "code",
   "execution_count": 2,
   "id": "9ce98ce0-7474-4e9e-8758-80bcd4202280",
   "metadata": {},
   "outputs": [
    {
     "name": "stdout",
     "output_type": "stream",
     "text": [
      "a: 10\n",
      "b: 20\n",
      "c: 30\n",
      "d: 40\n",
      "e: 50\n"
     ]
    }
   ],
   "source": [
    "#q42: Write a Python program to split a list into different variables.\n",
    "my_list = [10,20,30,40,50]\n",
    "a,b,c,d,e= my_list\n",
    "print(\"a:\", a)\n",
    "print(\"b:\", b)\n",
    "print(\"c:\", c)\n",
    "print(\"d:\", d)\n",
    "print(\"e:\",e)"
   ]
  },
  {
   "cell_type": "code",
   "execution_count": 29,
   "id": "fef441eb-ac68-41ab-997f-5e19c62c71a7",
   "metadata": {},
   "outputs": [
    {
     "name": "stdout",
     "output_type": "stream",
     "text": [
      "[1, 2, 100, 4]\n"
     ]
    }
   ],
   "source": [
    "\"\"\"\n",
    "q43: What is tuple? Difference between list and tuple. \n",
    "ans: syntax of list- Defined using square brackets []\n",
    "    syntax of tuple- Defined using parentheses ()\n",
    "\n",
    "    Mutability in list- Mutable (can be modified)\n",
    "    Mutability in tuple- Immutable (cannot be modified)\n",
    "    \n",
    "    Performance\tin list- Slower because of mutability\n",
    "    Performance\tin tuple- Faster because of immutability\n",
    "\n",
    "    Functions of list- More built-in functions for manipulation (e.g., append, remove)\n",
    "    Functions of tuple- Fewer built-in functions\n",
    "\n",
    "    Use Cases- Suitable for collections that need to be modified\n",
    "    Use Cases- Suitable for fixed collections (e.g., coordinates, settings)\n",
    "\n",
    "    Memory Usage- Uses more memory due to extra functionalities\n",
    "    Memory Usage- Uses less memory\n",
    "\"\"\"\n",
    "#list example\n",
    "mylist=[1,2,3]\n",
    "mylist[2]=100\n",
    "mylist.append(4)\n",
    "print(mylist)"
   ]
  },
  {
   "cell_type": "code",
   "execution_count": 31,
   "id": "2be49197-37da-4786-815e-38990f99e40b",
   "metadata": {},
   "outputs": [
    {
     "name": "stdout",
     "output_type": "stream",
     "text": [
      "(1, 2, 3)\n"
     ]
    }
   ],
   "source": [
    "#tuplr example\n",
    "my=(1,2,3)\n",
    "print(my)"
   ]
  },
  {
   "cell_type": "code",
   "execution_count": 59,
   "id": "bdb65cfa-6f06-4545-bab5-8fc9df67be35",
   "metadata": {},
   "outputs": [
    {
     "name": "stdout",
     "output_type": "stream",
     "text": [
      "(1, 2, 'Hello', 10.1, True, [1, 2, 3], ('hello', 'python'))\n"
     ]
    }
   ],
   "source": [
    "#q44: Write a Python program to create a tuple with different data types\n",
    "tup = (1,2,\"Hello\",10.10, True, [1, 2, 3], (\"hello\", \"python\"))\n",
    "print(tup)\n"
   ]
  },
  {
   "cell_type": "code",
   "execution_count": 38,
   "id": "2b3e0baa-19d6-4874-92bb-8760116dfc4e",
   "metadata": {},
   "outputs": [
    {
     "name": "stdout",
     "output_type": "stream",
     "text": [
      "Orignal List pof tuple:  [('rajat', 1), ('kuldeep', 2), ('rohit', 3)]\n",
      "Individual list:\n",
      "['rajat', 'kuldeep', 'rohit']\n",
      "[1, 2, 3]\n"
     ]
    }
   ],
   "source": [
    "#q45:Write a Python program to unzip a list of tuples into individual lists. \n",
    "lst = [('rajat',1),('kuldeep',2),('rohit',3)]\n",
    "\n",
    "print(\"Orignal List pof tuple: \",str(lst))\n",
    "zx = list(zip(*lst))\n",
    "print(\"Individual list:\")\n",
    "for i in zx:\n",
    "   print(list(i)) "
   ]
  },
  {
   "cell_type": "code",
   "execution_count": 4,
   "id": "5503ef3c-0cf3-4ffb-ab51-b52c0d6e6164",
   "metadata": {},
   "outputs": [
    {
     "name": "stdout",
     "output_type": "stream",
     "text": [
      "{'a': 15, 'b': 16, 'c': 17}\n"
     ]
    }
   ],
   "source": [
    "#q46: Write a Python program to convert a list of tuples into a dictionary.\n",
    "listoftuples=[('a',15),('b',16),('c',17)]\n",
    "dictionary= dict(listoftuples)\n",
    "print(dictionary)"
   ]
  },
  {
   "cell_type": "code",
   "execution_count": 10,
   "id": "5a509aaf-4a57-4517-a22f-cf4c45122e47",
   "metadata": {},
   "outputs": [
    {
     "name": "stdout",
     "output_type": "stream",
     "text": [
      "{'name': 'rajat', 'age': 21, 'city': 'udaipur'}\n"
     ]
    }
   ],
   "source": [
    "#q47: How will you create a dictionary using tuples in python?\n",
    "listtuples=[('name','rajat'),('age',21),('city','udaipur')]\n",
    "dictionary= dict(listtuples)\n",
    "print(dictionary)"
   ]
  },
  {
   "cell_type": "code",
   "execution_count": 114,
   "id": "6647065c-28d5-4b87-b2f0-9ee188345add",
   "metadata": {},
   "outputs": [
    {
     "name": "stdout",
     "output_type": "stream",
     "text": [
      "ascending:  ['a', 'b', 'c', 'd', 'e']\n",
      "descending: ['e', 'd', 'c', 'b', 'a']\n",
      "ascending:  [10, 11, 30, 40, 100]\n",
      "descending: [100, 40, 30, 11, 10]\n"
     ]
    }
   ],
   "source": [
    "#q48: Write a Python script to sort (ascending and descending) adictionary by value.\n",
    "dict1={'a':'a','d':'d','e':'e','b':'b','c':'c'}\n",
    "dict2={'a':11,'d':100,'e':30,'b':40,'c':10}\n",
    "x1 = list(dict1.values())\n",
    "x1.sort()\n",
    "print(\"ascending: \",x1)\n",
    "x1.sort(reverse=True)\n",
    "print(\"descending:\",x1)\n",
    "\n",
    "x2 = list(dict2.values())\n",
    "x2.sort()\n",
    "print(\"ascending: \",x2)\n",
    "x2.sort(reverse=True)\n",
    "print(\"descending:\",x2)"
   ]
  },
  {
   "cell_type": "code",
   "execution_count": 36,
   "id": "76786b2b-06e1-40bc-aff6-5ea916bc5044",
   "metadata": {},
   "outputs": [
    {
     "name": "stdout",
     "output_type": "stream",
     "text": [
      "new dict =  {'a': 1, 'b': 2, 'c': 3, 'd': 4, 'e': 5, 'f': 6}\n"
     ]
    }
   ],
   "source": [
    "#q49:Write a Python script to concatenate following dictionaries to createa new one.dictt1 = {'a': 1, 'b': 2}\n",
    "dictt1 = {'a': 1, 'b': 2}\n",
    "dictt2 = {'c': 3, 'd': 4}\n",
    "dictt3 = {'e': 5, 'f': 6}\n",
    "\n",
    "ndict = dictt1.copy()\n",
    "\n",
    "ndict.update(dictt2)\n",
    "ndict.update(dictt3)\n",
    "\n",
    "print(\"new dict = \",ndict)"
   ]
  },
  {
   "cell_type": "code",
   "execution_count": 28,
   "id": "023cc86d-2e77-4e6d-9a18-e98f54f07686",
   "metadata": {},
   "outputs": [
    {
     "name": "stdout",
     "output_type": "stream",
     "text": [
      " exists in the dictionary.\n"
     ]
    }
   ],
   "source": [
    "#q50:Write a Python script to check if a given key already exists in a dictionary.\n",
    "dictt = {'name': 'rajat', 'age': 21, 'city': 'udaipur'}\n",
    "key_check = 'age'\n",
    "if key_check in dictt:\n",
    "    print(\" exists in the dictionary.\")\n",
    "else:\n",
    "    print(\" does not exist in the dictionary.\")"
   ]
  },
  {
   "cell_type": "code",
   "execution_count": 2,
   "id": "28cb3cf0-092f-4e16-887d-98e87fd6402f",
   "metadata": {},
   "outputs": [
    {
     "name": "stdout",
     "output_type": "stream",
     "text": [
      "Keys:\n",
      "name\n",
      "age\n",
      "city\n",
      "\n",
      " Values:\n",
      "rajat\n",
      "21\n",
      "Ahmedabad\n",
      "\n",
      " Items:\n",
      "('name', 'rajat')\n",
      "('age', 21)\n",
      "('city', 'Ahmedabad')\n"
     ]
    }
   ],
   "source": [
    "#q51:How Do You Traverse Through a Dictionary Object in Python?\n",
    "dictt = {\"name\": \"rajat\", \"age\": 21, \"city\": \"Ahmedabad\"}\n",
    "\n",
    "print(\"Keys:\")\n",
    "for key in dictt.keys():\n",
    "    print(key)\n",
    "\n",
    "print(\"\\n Values:\")\n",
    "for value in dictt.values():\n",
    "    print(value)\n",
    "\n",
    "print(\"\\n Items:\")\n",
    "for item in dictt.items():\n",
    "    print(item)"
   ]
  },
  {
   "cell_type": "code",
   "execution_count": 4,
   "id": "753fbb8e-5f28-4759-a38a-a560b1c96115",
   "metadata": {},
   "outputs": [
    {
     "name": "stdin",
     "output_type": "stream",
     "text": [
      "input value=  a\n"
     ]
    },
    {
     "name": "stdout",
     "output_type": "stream",
     "text": [
      "Key is present.\n"
     ]
    }
   ],
   "source": [
    "#q52:How Do You Check the Presence of a Key in A Dictionary?\n",
    "dictt = {'a': 1, 'b': 2, 'c': 3}\n",
    "\n",
    "a1 = input(\"input value= \")\n",
    "\n",
    "if a1 in dictt:\n",
    "    print(\"Key is present.\")\n",
    "else:\n",
    "    print(\"Key is not present.\")"
   ]
  },
  {
   "cell_type": "code",
   "execution_count": 8,
   "id": "af0fb27e-97e7-4755-9ce1-6eafa829e148",
   "metadata": {},
   "outputs": [
    {
     "name": "stdout",
     "output_type": "stream",
     "text": [
      "{1: '/', 2: '/', 3: '/', 4: '/', 5: '/', 6: '/', 7: '/', 8: '/', 9: '/', 10: '/', 11: '/', 12: '/', 13: '/', 14: '/', 15: '/'}\n"
     ]
    }
   ],
   "source": [
    "#q53:Write a Python script to print a dictionary where the keys are numbers between 1 and 15.\n",
    "dictt = {}\n",
    "\n",
    "for key in range(1, 16):\n",
    "    dictt[key] = '/'\n",
    "\n",
    "print(dictt)\n"
   ]
  },
  {
   "cell_type": "code",
   "execution_count": 10,
   "id": "38e08751-1332-45f5-b52c-4732a2d18150",
   "metadata": {},
   "outputs": [
    {
     "name": "stdout",
     "output_type": "stream",
     "text": [
      "All keys exist in the dictionary.\n"
     ]
    }
   ],
   "source": [
    "#q54:Write a Python program to check multiple keys exists in a dictionary\n",
    "dictt1 = {'a': 1, 'b': 2, 'c': 3, 'd': 4}\n",
    "\n",
    "keys = ['a','b','c','d']\n",
    "\n",
    "if all(k in dictt1 for k in keys):\n",
    "    print(\"All keys exist in the dictionary.\")\n",
    "else:\n",
    "    print(\"Some keys are missing.\")"
   ]
  },
  {
   "cell_type": "code",
   "execution_count": 14,
   "id": "0acf0d73-a15b-4168-a6d0-6ccc98583068",
   "metadata": {},
   "outputs": [
    {
     "name": "stdout",
     "output_type": "stream",
     "text": [
      "a=  {'name': 'rajat', 'age': 21, 'state': 'Rajasthan', 'city': 'udaipur'}\n"
     ]
    }
   ],
   "source": [
    "#q55:Write a Python script to merge two Python dictionaries \n",
    "a = {\"name\": \"rajat\", \"age\": 21}\n",
    "b = {\"state\": \"Rajasthan\",  \"city\": \"udaipur\"}\n",
    "\n",
    "a.update(b)\n",
    "print(\"a= \",a)"
   ]
  },
  {
   "cell_type": "code",
   "execution_count": 34,
   "id": "0413a301-e3eb-42a9-a86f-690973d7b066",
   "metadata": {},
   "outputs": [
    {
     "name": "stdout",
     "output_type": "stream",
     "text": [
      "{'a': 400, 'b': 400, 'c': 300, 'd': 400}\n"
     ]
    }
   ],
   "source": [
    "#q56: Write a Python program to map two lists into a dictionary \n",
    "#Sample output: Counter ({'a': 400, 'b': 400,’d’: 400, 'c': 300}). \n",
    "\n",
    "keys = ['a', 'b', 'c', 'd']\n",
    "values = [400, 400, 300, 400]\n",
    "result = dict(zip(keys, values))\n",
    "\n",
    "print(result)"
   ]
  },
  {
   "cell_type": "code",
   "execution_count": 16,
   "id": "4dd04b8f-71fd-4c53-bfdb-ba4055a7bfd5",
   "metadata": {},
   "outputs": [
    {
     "name": "stdout",
     "output_type": "stream",
     "text": [
      "3 highest values:  [400, 100, 50]\n"
     ]
    }
   ],
   "source": [
    "#57)Write a Python program to find the highest 3 values in a dictionary \n",
    "dictt = {'a':11,'b':20,'c':10,'d':100,'e':400,'f':50}\n",
    "\n",
    "ab = list(dictt.values())\n",
    "ab.sort(reverse=True)\n",
    "print(\"3 highest values: \",ab[:3])"
   ]
  },
  {
   "cell_type": "code",
   "execution_count": 46,
   "id": "30a3df76-9948-4674-b1b8-92e89b9583e8",
   "metadata": {},
   "outputs": [
    {
     "name": "stdout",
     "output_type": "stream",
     "text": [
      "{'item1': 1150, 'item2': 300}\n"
     ]
    }
   ],
   "source": [
    "#58)Write a Python program to combine values in python list of dictionaries. \n",
    "#Sample data: [{'item': 'item1', 'amount': 400}, {'item': 'item2', 'amount': 300}, o {'item': 'item1', 'amount': 750}] \n",
    "#Expected Output:\n",
    "#• Counter ({'item1': 1150, 'item2': 300})\n",
    "data = [\n",
    "    {'item': 'item1', 'amount': 400},\n",
    "    {'item': 'item2', 'amount': 300},\n",
    "    {'item': 'item1', 'amount': 750}\n",
    "]\n",
    "\n",
    "dictt = {}\n",
    "\n",
    "for i in data:\n",
    "    item = i[\"item\"]\n",
    "    amount = i[\"amount\"]\n",
    "    \n",
    "    if item in dictt:\n",
    "        dictt[item] += amount\n",
    "    else:\n",
    "        dictt[item] = amount\n",
    "\n",
    "print(dictt)\n"
   ]
  },
  {
   "cell_type": "code",
   "execution_count": 20,
   "id": "5c845337-56de-4a25-943e-557b063246bb",
   "metadata": {},
   "outputs": [
    {
     "name": "stdin",
     "output_type": "stream",
     "text": [
      "Enter a string:  rajat\n"
     ]
    },
    {
     "name": "stdout",
     "output_type": "stream",
     "text": [
      "{'r': 1, 'a': 2, 'j': 1, 't': 1}\n"
     ]
    }
   ],
   "source": [
    "#59)Write a Python program to create a dictionary from a string. \n",
    "#Note: Track the count of the letters from the string. \n",
    "def countt(s1):\n",
    "    cou = {}\n",
    "    for i in s1:\n",
    "        if i in cou:\n",
    "            cou[i] += 1 \n",
    "        else:\n",
    "            cou[i] = 1  \n",
    "    \n",
    "    return cou\n",
    "\n",
    "z1 = input(\"Enter a string: \")\n",
    "print(countt(z1))"
   ]
  },
  {
   "cell_type": "code",
   "execution_count": 112,
   "id": "7b528420-40d1-454c-8101-3ef73728cd68",
   "metadata": {},
   "outputs": [
    {
     "name": "stdout",
     "output_type": "stream",
     "text": [
      "{'w': 1, '3': 1, 'r': 2, 'e': 2, 's': 1, 'o': 1, 'u': 1, 'c': 1}\n"
     ]
    }
   ],
   "source": [
    "#60)Sample string:\n",
    " #'w3resource' Expected output:\n",
    "#• {'3': 1,’s’: 1, 'r': 2, 'u': 1, 'w': 1, 'c': 1, 'e': 2, 'o': 1}\n",
    "def countt(s1):\n",
    "    cou = {}\n",
    "    for i in s1:\n",
    "        if i in cou:\n",
    "            cou[i] += 1 \n",
    "        else:\n",
    "            cou[i] = 1  \n",
    "    \n",
    "    return cou\n",
    "\n",
    "z1 =('w3resource')\n",
    "print(countt(z1))"
   ]
  },
  {
   "cell_type": "code",
   "execution_count": 22,
   "id": "51003f4d-cb04-4ef0-87b3-479bf5a92f15",
   "metadata": {},
   "outputs": [
    {
     "name": "stdin",
     "output_type": "stream",
     "text": [
      "Enter number : 10\n"
     ]
    },
    {
     "name": "stdout",
     "output_type": "stream",
     "text": [
      "3628800\n"
     ]
    }
   ],
   "source": [
    "#61)Write a Python function to calculate the factorial of a number (a nonnegative integer)\n",
    "def f1(a):\n",
    "    result = 1\n",
    "    for i in range(1, a + 1):\n",
    "        result *= i\n",
    "    return result\n",
    "\n",
    "print(f1(int(input(\"Enter number :\"))))"
   ]
  },
  {
   "cell_type": "code",
   "execution_count": 24,
   "id": "f14d6f75-90d0-4ef4-88a2-fe7d07c98b61",
   "metadata": {},
   "outputs": [
    {
     "name": "stdin",
     "output_type": "stream",
     "text": [
      "Enter number to check:  10\n",
      "Enter starting number:  2\n",
      "Enter ending number:  200\n"
     ]
    },
    {
     "name": "stdout",
     "output_type": "stream",
     "text": [
      "True\n"
     ]
    }
   ],
   "source": [
    "#62)Write a Python function to check whether a number is in a given range \n",
    "def inrange(number, start, end):\n",
    "    return start <= number <= end\n",
    "\n",
    "number = int(input(\"Enter number to check: \"))\n",
    "start = int(input(\"Enter starting number: \"))\n",
    "end = int(input(\"Enter ending number: \"))\n",
    "\n",
    "print(inrange(number, start, end))\n"
   ]
  },
  {
   "cell_type": "code",
   "execution_count": 26,
   "id": "98ad7ff5-92d8-47e4-993e-69ef831d0c24",
   "metadata": {},
   "outputs": [
    {
     "name": "stdin",
     "output_type": "stream",
     "text": [
      "Enter a number:  15\n"
     ]
    },
    {
     "name": "stdout",
     "output_type": "stream",
     "text": [
      "15 is not a perfect number.\n"
     ]
    }
   ],
   "source": [
    "#63)Write a Python function to check whether a number is perfect or not. \n",
    "def perfect(num):\n",
    "    div = 0\n",
    "    for i in range(1, num):\n",
    "        if num % i == 0:  \n",
    "            div += i\n",
    "    return div == num  \n",
    "num1 = int(input(\"Enter a number: \"))\n",
    "if perfect(num1):\n",
    "    print(f\"{num1} is a perfect number.\")\n",
    "else:\n",
    "    print(f\"{num1} is not a perfect number.\")"
   ]
  },
  {
   "cell_type": "code",
   "execution_count": 28,
   "id": "0988bfbb-13be-4e84-a9c8-fdbc4baec61f",
   "metadata": {},
   "outputs": [
    {
     "name": "stdin",
     "output_type": "stream",
     "text": [
      "Enter a string:  rajat\n"
     ]
    },
    {
     "name": "stdout",
     "output_type": "stream",
     "text": [
      "'rajat' is not a palindrome.\n"
     ]
    }
   ],
   "source": [
    "#64)Write a Python function that checks whether a passed string is palindrome or not\n",
    "def palindrome(s):\n",
    "    return s == s[::-1]\n",
    "\n",
    "x1 = input(\"Enter a string: \")\n",
    "if palindrome(x1):\n",
    "    print(f\"'{x1}' is a palindrome.\")\n",
    "else:\n",
    "    print(f\"'{x1}' is not a palindrome.\")"
   ]
  },
  {
   "cell_type": "code",
   "execution_count": null,
   "id": "32ab9511-b898-4f1c-b6d4-5091a2dbf462",
   "metadata": {},
   "outputs": [],
   "source": [
    "#65)How Many Basic Types of Functions Are Available in Python? \n",
    "\"\"\"\n",
    "Python has two basic types of functions: built-in functions and user-defined functions. Built-in functions are pre-defined in Python, like print(),\n",
    "len(), or input(). User-defined functions are created by programmers to perform specific tasks using the def keyword. Both types help in modular\n",
    "and efficient programming.\n",
    "\"\"\""
   ]
  },
  {
   "cell_type": "code",
   "execution_count": 30,
   "id": "6a35efd1-f877-4e72-b2d2-f6b56c912879",
   "metadata": {},
   "outputs": [
    {
     "name": "stdout",
     "output_type": "stream",
     "text": [
      "random item from list=  4\n"
     ]
    }
   ],
   "source": [
    "#66)How can you pick a random item from a list or tuple? \n",
    "lst = [\"x\",\"y\",\"z\",4,5]\n",
    "\n",
    "lst1= set(lst)\n",
    "for i in lst1:\n",
    "    print(\"random item from list= \",i)\n",
    "    break"
   ]
  },
  {
   "cell_type": "code",
   "execution_count": 32,
   "id": "a850ab04-6440-402b-9f0d-38aca079a49f",
   "metadata": {},
   "outputs": [
    {
     "name": "stdout",
     "output_type": "stream",
     "text": [
      "random item from tuple=  1\n"
     ]
    }
   ],
   "source": [
    "tup = (\"a\",\"b\",\"c\",\"d\",1,2,3,4)\n",
    "\n",
    "tup1=set(tup)\n",
    "for x in tup1:\n",
    "    print(\"random item from tuple= \",x)\n",
    "    break"
   ]
  },
  {
   "cell_type": "code",
   "execution_count": 35,
   "id": "8fc2eb1e-6a38-4d9f-8154-fc1e7bff825f",
   "metadata": {},
   "outputs": [
    {
     "name": "stdout",
     "output_type": "stream",
     "text": [
      "12\n"
     ]
    }
   ],
   "source": [
    "#67)How can you pick a random item from a range?\r",
    "import random\n",
    "\n",
    "r1 = random.randrange(-100,100)\n",
    "print(r1)\n",
    "\n"
   ]
  },
  {
   "cell_type": "code",
   "execution_count": 37,
   "id": "a77055c1-f986-459e-89b1-54caf6ffacba",
   "metadata": {},
   "outputs": [
    {
     "name": "stdout",
     "output_type": "stream",
     "text": [
      "0.8056712291797191\n"
     ]
    }
   ],
   "source": [
    "#68)How can you get a random number in python? \n",
    "import random\n",
    "\n",
    "r2 = random.random()\n",
    "print(r2)"
   ]
  },
  {
   "cell_type": "code",
   "execution_count": 39,
   "id": "43f4e6cf-99d6-4cb5-8e46-d6cd20c6b493",
   "metadata": {},
   "outputs": [
    {
     "name": "stdin",
     "output_type": "stream",
     "text": [
      "Starting num: 10\n",
      "ending num: 50\n"
     ]
    },
    {
     "name": "stdout",
     "output_type": "stream",
     "text": [
      "36\n"
     ]
    }
   ],
   "source": [
    "#69)How will you set the starting value in generating random numbers? \n",
    "import random\n",
    "a=int(input(\"Starting num:\"))\n",
    "b=int(input(\"ending num:\"))\n",
    "r1 = random.randrange(a,b)\n",
    "print(r1)"
   ]
  },
  {
   "cell_type": "code",
   "execution_count": 41,
   "id": "0c75ef14-fc23-46f2-8086-9c76e6985f93",
   "metadata": {},
   "outputs": [
    {
     "name": "stdout",
     "output_type": "stream",
     "text": [
      "main list: [1, 2, 3, 4, 5, 6, 7, 8, 9]\n",
      "after randomize: [9, 7, 1, 5, 4, 6, 3, 2, 8]\n"
     ]
    }
   ],
   "source": [
    "#70) How will you randomize the items of a list in place? \n",
    "import random\n",
    "\n",
    "llst = [1, 2, 3, 4, 5, 6, 7, 8, 9]\n",
    "print(\"main list:\",llst)\n",
    "random.shuffle(llst)\n",
    "\n",
    "print(\"after randomize:\",llst)"
   ]
  },
  {
   "cell_type": "code",
   "execution_count": null,
   "id": "d264f6cc-2f5e-46d3-9ede-76b49ec992bb",
   "metadata": {},
   "outputs": [],
   "source": [
    "#71)What is File function in python? What are keywords to create and write file. \n",
    "\"\"\"\n",
    "file functions in python\n",
    "1. open(): opens a file object\n",
    "    filename: name of the file to be opened.\n",
    "    mode: Specifies the mode in which the file is opened (e.g., read, write, append).\n",
    "2. write(): writes data to the file.\n",
    "3. read(): reads data from the file.\n",
    "4. close(): closes the file to free up resources.\n",
    "5. writelines(): writes a list of strings to the file.\n",
    "6. readline(): reads a single line from the file.\n",
    "7. readlines(): reads all lines into a list.\n",
    "\n",
    "Keywords for file creation and writing\n",
    "The mode parameter in the open() function specifies the operation mode. The most common modes for creating and writing to a file are:\n",
    "1. w (write mode):\n",
    "Creates a new file if it doesn't exist.\n",
    "Overwrites the file if it already exists.\n",
    "2. a (append mode):\n",
    "Creates a new file if it doesn't exist.\n",
    "Adds data to the end of the file without overwriting existing content.\n",
    "3. x (exclusive creation mode):\n",
    "Creates a new file.\n",
    "Raises an error if the file already exists.\n",
    "\"\"\""
   ]
  },
  {
   "cell_type": "code",
   "execution_count": 26,
   "id": "2888cef7-527a-4143-ba4f-d5427c2bfb96",
   "metadata": {},
   "outputs": [
    {
     "name": "stdout",
     "output_type": "stream",
     "text": [
      "hello\n",
      "good morning \n"
     ]
    }
   ],
   "source": [
    "#72)Write a Python program to read an entire text file. \n",
    "a = open(\"rajat.txt\",\"r\")\n",
    "print(a.read())"
   ]
  },
  {
   "cell_type": "code",
   "execution_count": 28,
   "id": "d68df36c-b0aa-49da-b111-16581b996eea",
   "metadata": {},
   "outputs": [
    {
     "name": "stdout",
     "output_type": "stream",
     "text": [
      "hello\n",
      "good morning \n",
      "python is nice\n"
     ]
    }
   ],
   "source": [
    "#73)Write a Python program to append text to a file and display the text.\n",
    "a1 = open(\"rajat.txt\",\"a\")\n",
    "a1.write(\"\\npython is nice\")\n",
    "a1.close()\n",
    "\n",
    "a = open(\"rajat.txt\",\"r\")\n",
    "print(a.read())\n"
   ]
  },
  {
   "cell_type": "code",
   "execution_count": 24,
   "id": "afe04556-57d7-4393-a7d6-bad4ec33691b",
   "metadata": {},
   "outputs": [
    {
     "name": "stdout",
     "output_type": "stream",
     "text": [
      "hello\n",
      "\n"
     ]
    }
   ],
   "source": [
    "#74)Write a Python program to read first n lines of a file. \n",
    "a = open(\"rajat.txt\",\"r\")\n",
    "print(a.readline())"
   ]
  },
  {
   "cell_type": "code",
   "execution_count": 22,
   "id": "0a1fec45-9dd0-4169-bd67-0677caf26d8e",
   "metadata": {},
   "outputs": [
    {
     "name": "stdout",
     "output_type": "stream",
     "text": [
      "good morning \n"
     ]
    }
   ],
   "source": [
    "#75)Write a Python program to read last n lines of a file. \n",
    "a = open(\"rajat.txt\",\"r\")\n",
    "x= list(a.readlines())\n",
    "print(x[-1])"
   ]
  },
  {
   "cell_type": "code",
   "execution_count": 20,
   "id": "3a63aa1f-39f8-488e-bc8f-d04f7352ff48",
   "metadata": {},
   "outputs": [
    {
     "name": "stdout",
     "output_type": "stream",
     "text": [
      "list: ['hello\\n', 'good morning ']\n"
     ]
    }
   ],
   "source": [
    "#76)Write a Python program to read a file line by line and store it into a list \n",
    "a = open(\"rajat.txt\",\"r\")\n",
    "x= list(a.readlines())\n",
    "print(\"list:\",x)"
   ]
  },
  {
   "cell_type": "code",
   "execution_count": 18,
   "id": "b9407487-3c01-433b-9e23-19ab49db40ab",
   "metadata": {},
   "outputs": [
    {
     "name": "stdout",
     "output_type": "stream",
     "text": [
      "['hello', 'good morning']\n"
     ]
    }
   ],
   "source": [
    "#77)Write a Python program to read a file line by line store it into a variable.\n",
    "lst = [] \n",
    "\n",
    "a1 = open(\"rajat.txt\", 'r')\n",
    "\n",
    "for lin in a1:\n",
    "    lst.append(lin.strip())  \n",
    "print(lst)"
   ]
  },
  {
   "cell_type": "code",
   "execution_count": 16,
   "id": "254e7ff9-ced6-458f-9689-b889b73240a1",
   "metadata": {},
   "outputs": [
    {
     "name": "stdout",
     "output_type": "stream",
     "text": [
      "Large word:  morning\n"
     ]
    }
   ],
   "source": [
    "#78)Write a python program to find the longest words.\n",
    "a2 = open(\"rajat.txt\", 'r')\n",
    "ls = (a2.read())\n",
    "x=ls.split()\n",
    "x\n",
    "\n",
    "maxx=max(x,key=len)\n",
    "print(\"Large word: \",maxx)"
   ]
  },
  {
   "cell_type": "code",
   "execution_count": 14,
   "id": "da11157f-67fb-4bae-9d73-1225f58ba657",
   "metadata": {},
   "outputs": [
    {
     "name": "stdout",
     "output_type": "stream",
     "text": [
      "count lines:  2\n"
     ]
    }
   ],
   "source": [
    "#79)Write a Python program to count the number of lines in a text file. \n",
    "a2 = open(\"rajat.txt\", 'r')\n",
    "x1 = len(a2.readlines())\n",
    "print(\"count lines: \",x1)"
   ]
  },
  {
   "cell_type": "code",
   "execution_count": 12,
   "id": "703f33c8-d642-4eda-ac68-2aff023ba952",
   "metadata": {},
   "outputs": [
    {
     "name": "stdout",
     "output_type": "stream",
     "text": [
      "{'hello': 1, 'good': 1, 'morning': 1}\n"
     ]
    }
   ],
   "source": [
    "#80)Write a Python program to count the frequency of words in a file. \n",
    "def countt(s1):\n",
    "    cou = {}\n",
    "    for i in s1:\n",
    "        if i in cou:\n",
    "            cou[i] += 1 \n",
    "        else:\n",
    "            cou[i] = 1  \n",
    "    \n",
    "    return cou\n",
    "\n",
    "a3 = open(\"rajat.txt\", 'r')\n",
    "ls = (a3.read())\n",
    "z=ls.split()\n",
    "z\n",
    "z1 =(z)\n",
    "print(countt(z1))"
   ]
  },
  {
   "cell_type": "code",
   "execution_count": 10,
   "id": "6a679356-0d3f-488b-9181-807a9cfc1cb9",
   "metadata": {},
   "outputs": [
    {
     "name": "stdout",
     "output_type": "stream",
     "text": [
      "yash\trajat\tprachi\tmiku\tmiki\tshorty\t\n"
     ]
    }
   ],
   "source": [
    "#81)Write a Python program to write a list to a file. \n",
    "lsta=[\"yash\",\"rajat\",\"prachi\",\"miku\",\"miki\",\"shorty\"]\n",
    "\n",
    "a1 = open(\"rajat1.txt\",\"w\")\n",
    "for i in lsta:\n",
    "    a1.write(i+\"\\t\")\n",
    "a1.close()\n",
    "\n",
    "a = open(\"rajat1.txt\",\"r\")\n",
    "print(a.read())"
   ]
  },
  {
   "cell_type": "code",
   "execution_count": 6,
   "id": "17247428-fe83-42d1-a145-7a9df97f1465",
   "metadata": {},
   "outputs": [
    {
     "data": {
      "text/plain": [
       "19"
      ]
     },
     "execution_count": 6,
     "metadata": {},
     "output_type": "execute_result"
    }
   ],
   "source": [
    "#82)Write a Python program to copy the contents of a file to another file. \n",
    "m1 = open(\"rajat.txt\", 'r') \n",
    "\n",
    "m2 = open(\"rajat1.txt\",'w') \n",
    "m2.write(m1.read())\n"
   ]
  },
  {
   "cell_type": "code",
   "execution_count": null,
   "id": "99c5e375-9488-44be-93f1-3e2ede9edcb5",
   "metadata": {},
   "outputs": [],
   "source": [
    "#83)Explain Exception handling? What is an Error in Python? \n",
    "\"\"\"\n",
    "Exception handling in Python is a mechanism that allows us to manage runtime errors in a program. It ensures that the program does not crash \n",
    "unexpectedly and provides a way to respond to errors gracefully.\n",
    "Key Points:\n",
    "Exception: An event that disrupts the normal flow of a program during execution.\n",
    "Python provides the try, except, else, and finally blocks to handle exceptions.\n",
    "\"\"\""
   ]
  },
  {
   "cell_type": "code",
   "execution_count": null,
   "id": "7f418cdf-f151-4414-bb7d-51219c7b6500",
   "metadata": {},
   "outputs": [],
   "source": [
    "#84)How many except statements can a try-except block have? Name Some built-in exception classes: \n",
    "\"\"\"\n",
    "A try-except block in Python can have multiple except statements.\n",
    "This allows you to handle different types of exceptions separately.\n",
    "There is no strict limit to the number of except blocks you can have, as long as they are logically organized\n",
    "\"\"\"\n",
    "\"\"\"\n",
    "some built-in exception:\n",
    "ZeroDivisionError: Raised when dividing by zero.\n",
    "TypeError: Raised when an operation or function is applied to an object of inappropriate type.\n",
    "ValueError: Raised when a function receives an argument of the correct type but an inappropriate value.\n",
    "\"\"\"\n",
    "try:\n",
    "    x = 1 / 0\n",
    "except ZeroDivisionError:\n",
    "    print(\"Cannot divide by zero.\")\n",
    "except TypeError:\n",
    "    print(\"Type error occurred.\")\n",
    "\n"
   ]
  },
  {
   "cell_type": "code",
   "execution_count": 6,
   "id": "0bd42988-4a72-41d4-b5cf-1d180b9be298",
   "metadata": {},
   "outputs": [
    {
     "name": "stdout",
     "output_type": "stream",
     "text": [
      "No exception\n"
     ]
    }
   ],
   "source": [
    "#85)When will the else part of try-except-else be executed?\n",
    "\"\"\"\n",
    "The else part of a try-except-else block is executed only if no exception is raised in the try block.\n",
    "\"\"\"\n",
    "try:\n",
    "    x = 10 / 2 \n",
    "except ZeroDivisionError:\n",
    "    print(\"Division by zero.\")\n",
    "else:\n",
    "    print(\"No exception\") \n"
   ]
  },
  {
   "cell_type": "code",
   "execution_count": 2,
   "id": "d96ab6ca-cd00-4783-95d4-9afd31a0276b",
   "metadata": {},
   "outputs": [
    {
     "name": "stdout",
     "output_type": "stream",
     "text": [
      "Cannot divide by zero.\n"
     ]
    }
   ],
   "source": [
    "#86)Can one block of except statements handle multiple exception? \n",
    "\"\"\"\n",
    "In Python, a try-except block can have multiple except statements to handle different exception types separately.\n",
    "There’s no limit to the number of except blocks, but they should be logically organized from specific to general.\n",
    "This flexibility ensures robust error handling and keeps the code maintainable and clear.\n",
    "\"\"\"\n",
    "try:\n",
    "    x = 1 / 0\n",
    "except ZeroDivisionError:\n",
    "    print(\"Cannot divide by zero.\")\n",
    "except TypeError:\n",
    "    print(\"Type error occurred.\")"
   ]
  },
  {
   "cell_type": "code",
   "execution_count": null,
   "id": "7f73137f-2411-4a22-9464-519f55cf09f2",
   "metadata": {},
   "outputs": [],
   "source": [
    "#87)When is the finally block executed? \n",
    "\"\"\"\n",
    "In Python, the finally block is always executed after the try block, regardless of whether an exception is raised or handled.\n",
    "It ensures that cleanup tasks, such as closing files or releasing resources\n",
    "If no exception occurs, the finally block runs after the try block.\n",
    "If an exception occurs and is handled in the except block, the finally block runs after it.\n",
    "If an exception occurs and is not handled, the finally block still runs before the program propagates the exception further.\n",
    "Even if a return statement is used in the try or except block, the finally block executes before returning.\n",
    "\"\"\""
   ]
  },
  {
   "cell_type": "code",
   "execution_count": null,
   "id": "9b3b03f1-1c4f-4524-877d-79e9d32f12ef",
   "metadata": {},
   "outputs": [],
   "source": [
    "#88)What happens when „1‟== 1 is executed? \n",
    "try:\n",
    "    result = '1' == 1\n",
    "    print(result)\n",
    "except TypeError:\n",
    "    print(\"Type Error\")\n",
    "\n",
    "\"\"\"\n",
    "'1' is a string (text) and 1 is an integer (number).\n",
    "Python checks if they are the same.\n",
    "Since a string is different from an integer, the result is False.\n",
    "\"\"\""
   ]
  },
  {
   "cell_type": "code",
   "execution_count": 30,
   "id": "353e6692-5b5d-4282-a764-1389c640bd52",
   "metadata": {},
   "outputs": [
    {
     "name": "stdin",
     "output_type": "stream",
     "text": [
      "Enter a number:  kj\n"
     ]
    },
    {
     "name": "stdout",
     "output_type": "stream",
     "text": [
      "Error: Invalid input, please enter a number.\n",
      "This will always execute.\n"
     ]
    }
   ],
   "source": [
    "#89)How Do You Handle Exceptions with Try/Except/Finally in Python? Explain with coding snippets. \n",
    "\"\"\"\n",
    "try: Place code that might raise an exception inside the try block.\n",
    "except: Catch and handle specific exceptions in the except block.\n",
    "finally: Execute code that should always run, regardless of whether an exception occurred.\n",
    "\"\"\"\n",
    "try:\n",
    "    num = int(input(\"Enter a number: \"))\n",
    "    result = 10 / num  \n",
    "except ZeroDivisionError:\n",
    "    print(\"Error: Cannot divide by zero.\")\n",
    "except ValueError:\n",
    "    print(\"Error: Invalid input, please enter a number.\")\n",
    "finally:\n",
    "    print(\"This will always execute.\")\n"
   ]
  },
  {
   "cell_type": "code",
   "execution_count": 18,
   "id": "86e7da69-fabf-46e7-83a7-dfd19ed053b1",
   "metadata": {},
   "outputs": [
    {
     "name": "stdin",
     "output_type": "stream",
     "text": [
      "Enter odd number:  10\n"
     ]
    },
    {
     "name": "stdout",
     "output_type": "stream",
     "text": [
      "<class 'ValueError'>\n"
     ]
    }
   ],
   "source": [
    "#90)Write python program that user to enter only odd numbers, else will raise an exception.\n",
    "try:\n",
    "    n = int(input(\"Enter odd number: \"))\n",
    "    if n % 2 == 0:\n",
    "        raise (ValueError(\"Error: The number is not odd!\"))\n",
    "    print(f\"odd number: {n}\")\n",
    "except ValueError:\n",
    "    print(ValueError)\n"
   ]
  },
  {
   "cell_type": "code",
   "execution_count": null,
   "id": "98f17876-93df-4ff3-8a5d-66473948c25e",
   "metadata": {},
   "outputs": [],
   "source": []
  }
 ],
 "metadata": {
  "kernelspec": {
   "display_name": "Python 3 (ipykernel)",
   "language": "python",
   "name": "python3"
  },
  "language_info": {
   "codemirror_mode": {
    "name": "ipython",
    "version": 3
   },
   "file_extension": ".py",
   "mimetype": "text/x-python",
   "name": "python",
   "nbconvert_exporter": "python",
   "pygments_lexer": "ipython3",
   "version": "3.12.4"
  }
 },
 "nbformat": 4,
 "nbformat_minor": 5
}
